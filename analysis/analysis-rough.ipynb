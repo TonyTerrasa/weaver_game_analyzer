{
 "cells": [
  {
   "cell_type": "code",
   "execution_count": 1,
   "id": "a33b6c6d",
   "metadata": {},
   "outputs": [],
   "source": [
    "import numpy as np\n",
    "import pandas as pd\n",
    "import networkx as nx\n",
    "from random import sample"
   ]
  },
  {
   "cell_type": "code",
   "execution_count": 2,
   "id": "24ecc33d",
   "metadata": {},
   "outputs": [
    {
     "data": {
      "text/html": [
       "<div>\n",
       "<style scoped>\n",
       "    .dataframe tbody tr th:only-of-type {\n",
       "        vertical-align: middle;\n",
       "    }\n",
       "\n",
       "    .dataframe tbody tr th {\n",
       "        vertical-align: top;\n",
       "    }\n",
       "\n",
       "    .dataframe thead th {\n",
       "        text-align: right;\n",
       "    }\n",
       "</style>\n",
       "<table border=\"1\" class=\"dataframe\">\n",
       "  <thead>\n",
       "    <tr style=\"text-align: right;\">\n",
       "      <th></th>\n",
       "      <th>word</th>\n",
       "    </tr>\n",
       "  </thead>\n",
       "  <tbody>\n",
       "    <tr>\n",
       "      <th>0</th>\n",
       "      <td>aa</td>\n",
       "    </tr>\n",
       "    <tr>\n",
       "      <th>1</th>\n",
       "      <td>aah</td>\n",
       "    </tr>\n",
       "    <tr>\n",
       "      <th>2</th>\n",
       "      <td>aahed</td>\n",
       "    </tr>\n",
       "    <tr>\n",
       "      <th>3</th>\n",
       "      <td>aahing</td>\n",
       "    </tr>\n",
       "    <tr>\n",
       "      <th>4</th>\n",
       "      <td>aahs</td>\n",
       "    </tr>\n",
       "    <tr>\n",
       "      <th>...</th>\n",
       "      <td>...</td>\n",
       "    </tr>\n",
       "    <tr>\n",
       "      <th>172815</th>\n",
       "      <td>zymotic</td>\n",
       "    </tr>\n",
       "    <tr>\n",
       "      <th>172816</th>\n",
       "      <td>zymurgies</td>\n",
       "    </tr>\n",
       "    <tr>\n",
       "      <th>172817</th>\n",
       "      <td>zymurgy</td>\n",
       "    </tr>\n",
       "    <tr>\n",
       "      <th>172818</th>\n",
       "      <td>zyzzyva</td>\n",
       "    </tr>\n",
       "    <tr>\n",
       "      <th>172819</th>\n",
       "      <td>zyzzyvas</td>\n",
       "    </tr>\n",
       "  </tbody>\n",
       "</table>\n",
       "<p>172820 rows × 1 columns</p>\n",
       "</div>"
      ],
      "text/plain": [
       "             word\n",
       "0              aa\n",
       "1             aah\n",
       "2           aahed\n",
       "3          aahing\n",
       "4            aahs\n",
       "...           ...\n",
       "172815    zymotic\n",
       "172816  zymurgies\n",
       "172817    zymurgy\n",
       "172818    zyzzyva\n",
       "172819   zyzzyvas\n",
       "\n",
       "[172820 rows x 1 columns]"
      ]
     },
     "execution_count": 2,
     "metadata": {},
     "output_type": "execute_result"
    }
   ],
   "source": [
    "all_words = pd.read_csv(\"dictionary.csv\", names=[\"word\"])\n",
    "all_words.columns\n",
    "all_words.astype(str)"
   ]
  },
  {
   "cell_type": "code",
   "execution_count": 3,
   "id": "1873f81a",
   "metadata": {},
   "outputs": [],
   "source": [
    "four_letter_locs = all_words[\"word\"].apply(lambda x: len(str(x)) == 4)\n",
    "four_letters = all_words[four_letter_locs]"
   ]
  },
  {
   "cell_type": "code",
   "execution_count": 4,
   "id": "d48f6424",
   "metadata": {},
   "outputs": [
    {
     "data": {
      "text/html": [
       "<div>\n",
       "<style scoped>\n",
       "    .dataframe tbody tr th:only-of-type {\n",
       "        vertical-align: middle;\n",
       "    }\n",
       "\n",
       "    .dataframe tbody tr th {\n",
       "        vertical-align: top;\n",
       "    }\n",
       "\n",
       "    .dataframe thead th {\n",
       "        text-align: right;\n",
       "    }\n",
       "</style>\n",
       "<table border=\"1\" class=\"dataframe\">\n",
       "  <thead>\n",
       "    <tr style=\"text-align: right;\">\n",
       "      <th></th>\n",
       "      <th>word</th>\n",
       "    </tr>\n",
       "  </thead>\n",
       "  <tbody>\n",
       "    <tr>\n",
       "      <th>4</th>\n",
       "      <td>aahs</td>\n",
       "    </tr>\n",
       "    <tr>\n",
       "      <th>8</th>\n",
       "      <td>aals</td>\n",
       "    </tr>\n",
       "    <tr>\n",
       "      <th>46</th>\n",
       "      <td>abas</td>\n",
       "    </tr>\n",
       "    <tr>\n",
       "      <th>83</th>\n",
       "      <td>abba</td>\n",
       "    </tr>\n",
       "    <tr>\n",
       "      <th>88</th>\n",
       "      <td>abbe</td>\n",
       "    </tr>\n",
       "    <tr>\n",
       "      <th>...</th>\n",
       "      <td>...</td>\n",
       "    </tr>\n",
       "    <tr>\n",
       "      <th>172694</th>\n",
       "      <td>zoom</td>\n",
       "    </tr>\n",
       "    <tr>\n",
       "      <th>172705</th>\n",
       "      <td>zoon</td>\n",
       "    </tr>\n",
       "    <tr>\n",
       "      <th>172726</th>\n",
       "      <td>zoos</td>\n",
       "    </tr>\n",
       "    <tr>\n",
       "      <th>172746</th>\n",
       "      <td>zori</td>\n",
       "    </tr>\n",
       "    <tr>\n",
       "      <th>172801</th>\n",
       "      <td>zyme</td>\n",
       "    </tr>\n",
       "  </tbody>\n",
       "</table>\n",
       "<p>3902 rows × 1 columns</p>\n",
       "</div>"
      ],
      "text/plain": [
       "        word\n",
       "4       aahs\n",
       "8       aals\n",
       "46      abas\n",
       "83      abba\n",
       "88      abbe\n",
       "...      ...\n",
       "172694  zoom\n",
       "172705  zoon\n",
       "172726  zoos\n",
       "172746  zori\n",
       "172801  zyme\n",
       "\n",
       "[3902 rows x 1 columns]"
      ]
     },
     "execution_count": 4,
     "metadata": {},
     "output_type": "execute_result"
    }
   ],
   "source": [
    "four_letters"
   ]
  },
  {
   "cell_type": "code",
   "execution_count": 5,
   "id": "b82b8834",
   "metadata": {},
   "outputs": [],
   "source": [
    "vowels = (\"a\", \"e\", \"i\", \"o\", \"u\")\n",
    "def get_composition(s : str) -> str:\n",
    "        \n",
    "    composition = []\n",
    "    for i, letter in enumerate(s):\n",
    "        if letter in vowels:\n",
    "            composition += \"V\"\n",
    "            \n",
    "        # basic decision making for if y is a vowel\n",
    "        # y's at the end of words are always vowels\n",
    "        # y's followed by vowels are consonants\n",
    "        # all other y's are vowels\n",
    "        elif letter == \"y\":\n",
    "            if i == len(s)-1:\n",
    "                composition += \"V\"\n",
    "            elif s[i+1] in vowels:\n",
    "                composition += \"C\"\n",
    "            else:\n",
    "                composition += \"V\"\n",
    "\n",
    "        else:\n",
    "            composition += \"C\"\n",
    "    \n",
    "    return \"\".join(composition)    "
   ]
  },
  {
   "cell_type": "code",
   "execution_count": 6,
   "id": "568366a0",
   "metadata": {},
   "outputs": [
    {
     "name": "stderr",
     "output_type": "stream",
     "text": [
      "/tmp/ipykernel_18274/2393080957.py:1: SettingWithCopyWarning: \n",
      "A value is trying to be set on a copy of a slice from a DataFrame.\n",
      "Try using .loc[row_indexer,col_indexer] = value instead\n",
      "\n",
      "See the caveats in the documentation: https://pandas.pydata.org/pandas-docs/stable/user_guide/indexing.html#returning-a-view-versus-a-copy\n",
      "  four_letters[\"composition\"] = four_letters[\"word\"].apply(lambda x: get_composition(x))\n"
     ]
    }
   ],
   "source": [
    "four_letters[\"composition\"] = four_letters[\"word\"].apply(lambda x: get_composition(x))"
   ]
  },
  {
   "cell_type": "code",
   "execution_count": 7,
   "id": "15e73c25",
   "metadata": {},
   "outputs": [
    {
     "data": {
      "text/html": [
       "<div>\n",
       "<style scoped>\n",
       "    .dataframe tbody tr th:only-of-type {\n",
       "        vertical-align: middle;\n",
       "    }\n",
       "\n",
       "    .dataframe tbody tr th {\n",
       "        vertical-align: top;\n",
       "    }\n",
       "\n",
       "    .dataframe thead th {\n",
       "        text-align: right;\n",
       "    }\n",
       "</style>\n",
       "<table border=\"1\" class=\"dataframe\">\n",
       "  <thead>\n",
       "    <tr style=\"text-align: right;\">\n",
       "      <th></th>\n",
       "      <th>word</th>\n",
       "      <th>composition</th>\n",
       "    </tr>\n",
       "  </thead>\n",
       "  <tbody>\n",
       "    <tr>\n",
       "      <th>4</th>\n",
       "      <td>aahs</td>\n",
       "      <td>VVCC</td>\n",
       "    </tr>\n",
       "    <tr>\n",
       "      <th>8</th>\n",
       "      <td>aals</td>\n",
       "      <td>VVCC</td>\n",
       "    </tr>\n",
       "    <tr>\n",
       "      <th>46</th>\n",
       "      <td>abas</td>\n",
       "      <td>VCVC</td>\n",
       "    </tr>\n",
       "    <tr>\n",
       "      <th>83</th>\n",
       "      <td>abba</td>\n",
       "      <td>VCCV</td>\n",
       "    </tr>\n",
       "    <tr>\n",
       "      <th>88</th>\n",
       "      <td>abbe</td>\n",
       "      <td>VCCV</td>\n",
       "    </tr>\n",
       "    <tr>\n",
       "      <th>...</th>\n",
       "      <td>...</td>\n",
       "      <td>...</td>\n",
       "    </tr>\n",
       "    <tr>\n",
       "      <th>172694</th>\n",
       "      <td>zoom</td>\n",
       "      <td>CVVC</td>\n",
       "    </tr>\n",
       "    <tr>\n",
       "      <th>172705</th>\n",
       "      <td>zoon</td>\n",
       "      <td>CVVC</td>\n",
       "    </tr>\n",
       "    <tr>\n",
       "      <th>172726</th>\n",
       "      <td>zoos</td>\n",
       "      <td>CVVC</td>\n",
       "    </tr>\n",
       "    <tr>\n",
       "      <th>172746</th>\n",
       "      <td>zori</td>\n",
       "      <td>CVCV</td>\n",
       "    </tr>\n",
       "    <tr>\n",
       "      <th>172801</th>\n",
       "      <td>zyme</td>\n",
       "      <td>CVCV</td>\n",
       "    </tr>\n",
       "  </tbody>\n",
       "</table>\n",
       "<p>3902 rows × 2 columns</p>\n",
       "</div>"
      ],
      "text/plain": [
       "        word composition\n",
       "4       aahs        VVCC\n",
       "8       aals        VVCC\n",
       "46      abas        VCVC\n",
       "83      abba        VCCV\n",
       "88      abbe        VCCV\n",
       "...      ...         ...\n",
       "172694  zoom        CVVC\n",
       "172705  zoon        CVVC\n",
       "172726  zoos        CVVC\n",
       "172746  zori        CVCV\n",
       "172801  zyme        CVCV\n",
       "\n",
       "[3902 rows x 2 columns]"
      ]
     },
     "execution_count": 7,
     "metadata": {},
     "output_type": "execute_result"
    }
   ],
   "source": [
    "four_letters"
   ]
  },
  {
   "cell_type": "code",
   "execution_count": 8,
   "id": "8487fa09",
   "metadata": {},
   "outputs": [],
   "source": [
    "words = four_letters[\"word\"]"
   ]
  },
  {
   "cell_type": "code",
   "execution_count": 9,
   "id": "5c5a057b",
   "metadata": {},
   "outputs": [
    {
     "data": {
      "text/plain": [
       "4         aahs\n",
       "8         aals\n",
       "46        abas\n",
       "83        abba\n",
       "88        abbe\n",
       "          ... \n",
       "172694    zoom\n",
       "172705    zoon\n",
       "172726    zoos\n",
       "172746    zori\n",
       "172801    zyme\n",
       "Name: word, Length: 3902, dtype: object"
      ]
     },
     "execution_count": 9,
     "metadata": {},
     "output_type": "execute_result"
    }
   ],
   "source": [
    "words"
   ]
  },
  {
   "cell_type": "code",
   "execution_count": 14,
   "id": "3b89da1d",
   "metadata": {},
   "outputs": [],
   "source": [
    "small_words = [\"pool\", \n",
    "               \"poon\", \n",
    "               \"loon\", \n",
    "               \"swim\", \n",
    "               \"slim\", \n",
    "               \"slam\", \n",
    "               \"slot\", \n",
    "               \"slop\", \n",
    "               \"poop\",\n",
    "               \"plot\",\n",
    "               \"plop\",\n",
    "               \"gray\",\n",
    "               \"slip\"]"
   ]
  },
  {
   "cell_type": "code",
   "execution_count": 21,
   "id": "fd483242",
   "metadata": {},
   "outputs": [],
   "source": [
    "G_small = nx.Graph()\n",
    "G_small.add_nodes_from(small_words)\n",
    "G_small.add_edge(\"pool\", \"poon\")"
   ]
  },
  {
   "cell_type": "code",
   "execution_count": 29,
   "id": "6e29d586",
   "metadata": {
    "scrolled": true
   },
   "outputs": [
    {
     "data": {
      "text/plain": [
       "ItemsView(EdgeView([('pool', 'poon'), ('pool', 'poop'), ('poon', 'loon'), ('poon', 'poop'), ('swim', 'slim'), ('slim', 'slam'), ('slim', 'slip'), ('slot', 'slop'), ('slot', 'plot'), ('slop', 'plop'), ('slop', 'slip'), ('poop', 'plop'), ('plot', 'plop')]))"
      ]
     },
     "execution_count": 29,
     "metadata": {},
     "output_type": "execute_result"
    }
   ],
   "source": [
    "G_small.edges.items()"
   ]
  },
  {
   "cell_type": "code",
   "execution_count": 24,
   "id": "860a15e2",
   "metadata": {},
   "outputs": [],
   "source": [
    "def shares_edge(s1: str, s2: str) -> bool: \n",
    "    if len(s1) != len(s2):\n",
    "        raise ValueError('Two strings must have the same length to share an edge')\n",
    "    \n",
    "    if s1 == s2: \n",
    "        raise ValueError('Two strings must not be the same to share an edge')\n",
    "    \n",
    "    dif = 0\n",
    "    for i in range(len(s1)):\n",
    "        if s1[i] != s2[i]:\n",
    "            if dif:\n",
    "                return False\n",
    "            else:\n",
    "                dif = 1\n",
    "    return True"
   ]
  },
  {
   "cell_type": "code",
   "execution_count": 25,
   "id": "c8a8af97",
   "metadata": {},
   "outputs": [
    {
     "name": "stdout",
     "output_type": "stream",
     "text": [
      "poon pool True expected:  True\n",
      "poon loop False expected:  False\n"
     ]
    }
   ],
   "source": [
    "tests = [(\"poon\", \"pool\", True), (\"poon\", \"loop\", False)]\n",
    "for s1, s2, res in tests:\n",
    "    print(s1, s2, shares_edge(s1, s2), \"expected: \", res)"
   ]
  },
  {
   "cell_type": "code",
   "execution_count": 28,
   "id": "6cfb4520",
   "metadata": {},
   "outputs": [],
   "source": [
    "for i, w1 in enumerate(small_words):\n",
    "    for j, w2 in enumerate(small_words[i+1:]):\n",
    "        #print(w1, w2, shares_edge(w1, w2))\n",
    "        if shares_edge(w1, w2):\n",
    "            G_small.add_edge(w1, w2)"
   ]
  },
  {
   "cell_type": "code",
   "execution_count": 32,
   "id": "09d6504e",
   "metadata": {},
   "outputs": [],
   "source": [
    "nx.shortest_path_length(G_small, \"pool\", \"swim\")\n",
    "paths = nx.all_shortest_paths(G_small, \"pool\", \"swim\")"
   ]
  },
  {
   "cell_type": "code",
   "execution_count": 33,
   "id": "af816148",
   "metadata": {},
   "outputs": [
    {
     "name": "stdout",
     "output_type": "stream",
     "text": [
      "['pool', 'poop', 'plop', 'slop', 'slip', 'slim', 'swim']\n"
     ]
    }
   ],
   "source": [
    "for p in paths: \n",
    "    print(p)"
   ]
  },
  {
   "cell_type": "code",
   "execution_count": null,
   "id": "3313a930",
   "metadata": {},
   "outputs": [],
   "source": []
  }
 ],
 "metadata": {
  "kernelspec": {
   "display_name": "weaver-analysis",
   "language": "python",
   "name": "weaver-analysis"
  },
  "language_info": {
   "codemirror_mode": {
    "name": "ipython",
    "version": 3
   },
   "file_extension": ".py",
   "mimetype": "text/x-python",
   "name": "python",
   "nbconvert_exporter": "python",
   "pygments_lexer": "ipython3",
   "version": "3.10.10"
  }
 },
 "nbformat": 4,
 "nbformat_minor": 5
}
